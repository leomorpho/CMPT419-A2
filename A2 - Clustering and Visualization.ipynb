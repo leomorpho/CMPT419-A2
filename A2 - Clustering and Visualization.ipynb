{
 "cells": [
  {
   "cell_type": "markdown",
   "metadata": {},
   "source": [
    "# Clustering and Visualization of Phoebe dataset\n",
    "\n",
    "## Components\n",
    "* Create dataset with every row linked to the image it was generated from\n",
    "    * Will need to extract images from videos like this:\n",
    "    `ffmpeg -ss 00:23:00 -i video.mp4 -frames:v 1 out_time.jpg`\n"
   ]
  },
  {
   "cell_type": "code",
   "execution_count": null,
   "metadata": {},
   "outputs": [],
   "source": [
    "%%capture\n",
    "DATASET_FILE = \"Phoebe_dataset4.zip\"\n",
    "!unzip $DATASET_FILE;"
   ]
  },
  {
   "cell_type": "markdown",
   "metadata": {},
   "source": [
    "---\n",
    "## Load datasets\n",
    "### Helper functions"
   ]
  },
  {
   "cell_type": "code",
   "execution_count": null,
   "metadata": {},
   "outputs": [],
   "source": [
    "import numpy as np\n",
    "import os, os.path\n",
    "from typing import List, Dict, Union\n",
    "import csv\n",
    "import uuid\n",
    "import re\n",
    "import time\n",
    "import datetime\n",
    "import logging\n",
    "\n",
    "# Paths\n",
    "PATH_DATASET = \"Phoebe_dataset4\"\n",
    "PATH_AU_INTENSITY = \"single_person_au_intensity\"\n",
    "PATH_AU_PRESENCE = \"single_person_au_presence\"\n",
    "PATH_TRAIN = \"train\"\n",
    "PATH_TEST = \"test\"\n",
    "PATH_TRAINING_VIDEOS = PATH_DATASET + \"/videos/train\"\n",
    "PATH_PROCESSED_IMAGES = PATH_DATASET + \"/processed_images\"\n",
    "PATH_TRAINING_CSV = f\"./{PATH_DATASET}/{PATH_AU_INTENSITY}/{PATH_TRAIN}/\"\n",
    "\n",
    "# General\n",
    "EXT_MP4 = \"mp4\"\n",
    "\n",
    "# Stores\n",
    "IMAGE_STORE = {}\n",
    "\n",
    "log = logging.getLogger()\n",
    "log.setLevel(logging.DEBUG)"
   ]
  },
  {
   "cell_type": "code",
   "execution_count": 157,
   "metadata": {},
   "outputs": [],
   "source": [
    "def extract_image_for_timestamp(\n",
    "        orig_filename: str, \n",
    "        timestamp_sec: float) -> str:\n",
    "    \"\"\"Extracts a frame from a video given a timestamp in seconds.\n",
    "    \n",
    "    :param orig_filename: name of video for which timestamp applies\n",
    "    :param timestamp_sec: timestamp in seconds (e.g.: 1.3460006)\n",
    "    \n",
    "    :return: name of the image without its extension.\n",
    "    \"\"\"\n",
    "    \n",
    "    timestamp = datetime.timedelta(seconds=float(timestamp_sec.replace(\" \", \"\")))\n",
    "    img_name = f\"{orig_filename}_{str(timestamp)}\"\n",
    "    img_file = f\"{img_name}.jpg\"\n",
    "    img_filepath = os.path.abspath(f\"{PATH_PROCESSED_IMAGES}/{img_file}\")\n",
    "    video_filepath = PATH_TRAINING_VIDEOS + \"/\" + f\"{orig_filename}.{EXT_MP4}\"\n",
    "    \n",
    "    # Generate image if it does not exist\n",
    "    if not os.path.exists(img_filepath):\n",
    "        command = f\"ffmpeg -ss {str(timestamp)} -i {video_filepath} -frames:v 1 {img_filepath}\"\n",
    "        print(command)\n",
    "        !$command;\n",
    "    \n",
    "    # Add to image store\n",
    "    global IMAGE_STORE\n",
    "    IMAGE_STORE[img_name] = img_filepath\n",
    "    \n",
    "    return img_name\n",
    "\n",
    "    \n",
    "def load_dataset(filename: str) -> List[Union[str, float]]:\n",
    "    \"\"\"Load dataset for a single csv/video pair.\n",
    "    \n",
    "    :param filename: name of video and csv without an extension.\n",
    "    \n",
    "    :return: result dataset for csv/video pair.\n",
    "    \"\"\"\n",
    "    # Load csv with python library so that first column may be removed.\n",
    "    raw_data = []\n",
    "    with open(filename, \"r\") as csvfile:\n",
    "        reader = csv.reader(csvfile)\n",
    "        \n",
    "        for index, row in enumerate(reader):\n",
    "            new_row = row[1:]\n",
    "            if index == 0:\n",
    "                new_row.insert(0, \"filename\")\n",
    "            elif new_row[0] != \"\":\n",
    "                # Create an image for every row and add to dictionnary {id: path}\n",
    "                filename_without_ext: str = re.sub(\"\\D\", \"\", filename)\n",
    "                row_id = extract_image_for_timestamp(filename_without_ext, timestamp_sec=new_row[1])\n",
    "                new_row.insert(0, row_id)\n",
    "            raw_data.append(new_row)\n",
    "    \n",
    "    return raw_data\n",
    "\n",
    "def create_full_dataset(training_files) -> List[Union[str, float]]:\n",
    "    \"\"\"Load dataset for every csv/video pair.\n",
    "    \n",
    "    :param training_files: list of csv files.\n",
    "    \n",
    "    :return: full dataset results\n",
    "    \"\"\"\n",
    "    full_dataset = []\n",
    "    for file in training_files:\n",
    "        dataset = load_dataset(file)\n",
    "        if len(full_dataset) == 0:\n",
    "            full_dataset = dataset\n",
    "        else:\n",
    "            full_dataset.extend(dataset[1:])\n",
    "    return full_dataset"
   ]
  },
  {
   "cell_type": "code",
   "execution_count": 166,
   "metadata": {},
   "outputs": [],
   "source": [
    "from IPython.display import display, Image\n",
    "\n",
    "def show_image(image_id: str):\n",
    "    try:\n",
    "        image = Image(filename=f'./{PATH_PROCESSED_IMAGES}/{image_id}.jpg')\n",
    "        display(image)\n",
    "    except IOError as e:\n",
    "        print(e)\n",
    "        "
   ]
  },
  {
   "cell_type": "markdown",
   "metadata": {},
   "source": [
    "### Run dataset pipeline"
   ]
  },
  {
   "cell_type": "code",
   "execution_count": 154,
   "metadata": {},
   "outputs": [],
   "source": [
    "%%capture\n",
    "training_files: List[str] = [f\"{PATH_TRAINING_CSV}/{name}\" for \n",
    "                             name in os.listdir(f\"{PATH_TRAINING_CSV}\") if \n",
    "                             name[-4:] == \".csv\"]\n",
    "\n",
    "# Load datasets\n",
    "full_dataset = create_full_dataset(training_files)"
   ]
  },
  {
   "cell_type": "code",
   "execution_count": 155,
   "metadata": {},
   "outputs": [
    {
     "name": "stdout",
     "output_type": "stream",
     "text": [
      "3569\n",
      "[['filename', ' face_id', ' timestamp', ' confidence', ' success', ' AU01_r', ' AU02_r', ' AU04_r', ' AU05_r', ' AU06_r', ' AU07_r', ' AU09_r', ' AU10_r', ' AU12_r', ' AU14_r', ' AU15_r', ' AU17_r', ' AU20_r', ' AU23_r', ' AU25_r', ' AU26_r', ' AU45_r'], ['6_0:00:00', '0', '0.0', '0.98', '1', '0.0', '0.0', '0.0', '0.0', '1.14', '2.01', '0.0', '1.65', '1.83', '0.29', '0.94', '0.81', '0.0', '0.2', '0.0', '0.16', '0.0'], ['6_0:00:00.040000', '0', '0.04', '0.93', '1', '0.0', '0.0', '0.0', '0.0', '0.98', '1.82', '0.0', '1.38', '1.67', '0.51', '0.45', '0.58', '0.0', '0.07', '0.13', '0.11', '0.0'], ['6_0:00:00.080000', '0', '0.08', '0.98', '1', '0.02', '0.05', '0.0', '0.0', '0.94', '1.74', '0.0', '1.2', '1.56', '0.54', '0.27', '0.5', '0.0', '0.0', '0.25', '0.06', '0.06'], ['6_0:00:00.120000', '0', '0.12', '0.98', '1', '0.02', '0.05', '0.0', '0.0', '0.99', '1.79', '0.0', '1.06', '1.5', '0.5', '0.27', '0.43', '0.0', '0.0', '0.34', '0.08', '0.06']]\n"
     ]
    }
   ],
   "source": [
    "print(len(full_dataset))\n",
    "print(full_dataset[0:5])"
   ]
  },
  {
   "cell_type": "code",
   "execution_count": 167,
   "metadata": {},
   "outputs": [
    {
     "data": {
      "image/jpeg": "[encoded data removed]",
      "text/plain": [
       "<IPython.core.display.Image object>"
      ]
     },
     "metadata": {},
     "output_type": "display_data"
    }
   ],
   "source": [
    "show_image(full_dataset[1][0])"
   ]
  },
  {
   "cell_type": "markdown",
   "metadata": {},
   "source": [
    "## 1. Gausian Mixture Model"
   ]
  },
  {
   "cell_type": "code",
   "execution_count": 177,
   "metadata": {},
   "outputs": [
    {
     "ename": "ImportError",
     "evalue": "cannot import name 'GMM' from 'sklearn.mixture' (/Users/leo/workspace/cmpt419/CMPT419-A2/venv/lib/python3.7/site-packages/sklearn/mixture/__init__.py)",
     "output_type": "error",
     "traceback": [
      "\u001b[0;31m---------------------------------------------------------------------------\u001b[0m",
      "\u001b[0;31mImportError\u001b[0m                               Traceback (most recent call last)",
      "\u001b[0;32m<ipython-input-177-578c7143d1de>\u001b[0m in \u001b[0;36m<module>\u001b[0;34m\u001b[0m\n\u001b[1;32m      3\u001b[0m \u001b[0;32mimport\u001b[0m \u001b[0mseaborn\u001b[0m \u001b[0;32mas\u001b[0m \u001b[0msns\u001b[0m\u001b[0;34m;\u001b[0m \u001b[0msns\u001b[0m\u001b[0;34m.\u001b[0m\u001b[0mset\u001b[0m\u001b[0;34m(\u001b[0m\u001b[0;34m)\u001b[0m\u001b[0;34m\u001b[0m\u001b[0;34m\u001b[0m\u001b[0m\n\u001b[1;32m      4\u001b[0m \u001b[0;34m\u001b[0m\u001b[0m\n\u001b[0;32m----> 5\u001b[0;31m \u001b[0;32mfrom\u001b[0m \u001b[0msklearn\u001b[0m\u001b[0;34m.\u001b[0m\u001b[0mmixture\u001b[0m \u001b[0;32mimport\u001b[0m \u001b[0mGMM\u001b[0m\u001b[0;34m\u001b[0m\u001b[0;34m\u001b[0m\u001b[0m\n\u001b[0m\u001b[1;32m      6\u001b[0m \u001b[0;34m\u001b[0m\u001b[0m\n",
      "\u001b[0;31mImportError\u001b[0m: cannot import name 'GMM' from 'sklearn.mixture' (/Users/leo/workspace/cmpt419/CMPT419-A2/venv/lib/python3.7/site-packages/sklearn/mixture/__init__.py)"
     ]
    }
   ],
   "source": [
    "%matplotlib inline\n",
    "import matplotlib.pyplot as plt \n",
    "import seaborn as sns; sns.set()\n",
    "\n",
    "from sklearn.mixture import GMM\n",
    "\n"
   ]
  },
  {
   "cell_type": "code",
   "execution_count": null,
   "metadata": {},
   "outputs": [],
   "source": []
  }
 ],
 "metadata": {
  "kernelspec": {
   "display_name": "Python 3",
   "language": "python",
   "name": "python3"
  },
  "language_info": {
   "codemirror_mode": {
    "name": "ipython",
    "version": 3
   },
   "file_extension": ".py",
   "mimetype": "text/x-python",
   "name": "python",
   "nbconvert_exporter": "python",
   "pygments_lexer": "ipython3",
   "version": "3.7.3"
  }
 },
 "nbformat": 4,
 "nbformat_minor": 4
}

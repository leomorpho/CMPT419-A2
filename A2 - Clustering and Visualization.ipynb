{
 "cells": [
  {
   "cell_type": "markdown",
   "metadata": {},
   "source": [
    "# Clustering and Visualization of Phoebe dataset\n",
    "\n",
    "## Components\n",
    "* Create dataset with every row linked to the image it was generated from\n",
    "    * Will need to extract images from videos like this:\n",
    "    `ffmpeg -ss 00:23:00 -i video.mp4 -frames:v 1 out_time.jpg`\n"
   ]
  },
  {
   "cell_type": "code",
   "execution_count": 3,
   "metadata": {},
   "outputs": [
    {
     "name": "stdout",
     "output_type": "stream",
     "text": [
      "Archive:  Phoebe_dataset3.zip\n",
      "replace Phoebe_dataset/single_person_au_intensity/.DS_Store? [y]es, [n]o, [A]ll, [N]one, [r]ename: ^C\n"
     ]
    }
   ],
   "source": [
    "DATASET_FILE = \"Phoebe_dataset3.zip\"\n",
    "!unzip $DATASET_FILE;"
   ]
  },
  {
   "cell_type": "markdown",
   "metadata": {},
   "source": [
    "---\n",
    "## Load datasets\n",
    "### Helper functions"
   ]
  },
  {
   "cell_type": "code",
   "execution_count": 36,
   "metadata": {},
   "outputs": [],
   "source": [
    "import numpy as np\n",
    "import os, os.path\n",
    "from typing import List, Dict\n",
    "import csv\n",
    "import uuid\n",
    "import re\n",
    "import time\n",
    "import datetime\n",
    "\n",
    "PATH_DATASET = \"Phoebe_dataset\"\n",
    "PATH_AU_INTENSITY = \"single_person_au_intensity\"\n",
    "PATH_AU_PRESENCE = \"single_person_au_presence\"\n",
    "PATH_TRAIN = \"train\"\n",
    "PATH_TEST = \"test\"\n",
    "PATH_TRAINING_VIDEOS = PATH_DATASET + \"/videos/train\"\n",
    "PATH_PROCESSED_IMAGES = PATH_DATASET + \"/processed_images\"\n",
    "\n",
    "IMAGE_STORE = {}\n",
    "\n",
    "def extract_image_for_timestamp(orig_filename: str, \n",
    "                                timestamp_sec: float) -> str:\n",
    "    \n",
    "    timestamp = datetime.timedelta(seconds=float(timestamp_sec))\n",
    "    img_name = f\"{orig_filename}_{str(timestamp)}\"\n",
    "    img_file = f\"{img_name}.jpg\"\n",
    "    img_filepath = os.path.abspath(f\"{PATH_PROCESSED_IMAGES}/{img_file}\")\n",
    "    video_filepath = PATH_TRAINING_VIDEOS + \"/\" + f\"{orig_filename}.mp4\"\n",
    "    \n",
    "    # Generate image if it does not exist\n",
    "    if not os.path.exists(img_filepath):\n",
    "        command = f\"ffmpeg -ss {str(timestamp)} -i {video_filepath} -frames:v 1 {img_filepath}\"\n",
    "        print(command)\n",
    "        !$command;\n",
    "    \n",
    "    # Add to image store\n",
    "    global IMAGE_STORE\n",
    "    IMAGE_STORE[img_name] = img_filepath\n",
    "    \n",
    "    return img_name\n",
    "\n",
    "    \n",
    "def load_dataset(filename: str):\n",
    "    # Load csv with python library so that first column may be removed.\n",
    "    raw_data = []\n",
    "    with open(filename, \"r\") as csvfile:\n",
    "        reader = csv.reader(csvfile)\n",
    "        \n",
    "        for index, row in enumerate(reader):\n",
    "            new_row = row[1:]\n",
    "            if index == 0:\n",
    "                new_row.insert(0, \"filename\")\n",
    "            else:\n",
    "                # Create image for every row and add to dictionnary {id: path}\n",
    "                filename_without_ext: str = re.sub(\"\\D\", \"\", filename)\n",
    "                row_id = extract_image_for_timestamp(filename_without_ext, timestamp_sec=new_row[1])\n",
    "                new_row.insert(0, row_id)\n",
    "            raw_data.append(new_row)\n",
    "    \n",
    "    data = np.array(raw_data)\n",
    "    print(data[0:2])\n",
    "    return data"
   ]
  },
  {
   "cell_type": "markdown",
   "metadata": {},
   "source": [
    "### Run dataset pipeline"
   ]
  },
  {
   "cell_type": "code",
   "execution_count": 37,
   "metadata": {},
   "outputs": [],
   "source": [
    "%%capture\n",
    "training_files: List[str] = [f\"./{PATH_DATASET}/{PATH_AU_INTENSITY}/{PATH_TRAIN}/{name}\" for \n",
    "                             name in os.listdir(f\"./{PATH_DATASET}/{PATH_AU_INTENSITY}/{PATH_TRAIN}\") if \n",
    "                             name[-4:] == \".csv\"]\n",
    "\n",
    "image_dict = {}\n",
    "dataset1 = load_dataset(training_files[0])\n",
    "# print(dataset1)\n",
    "\n",
    "# Load datasets\n",
    "full_dataset = []"
   ]
  },
  {
   "cell_type": "code",
   "execution_count": 38,
   "metadata": {},
   "outputs": [
    {
     "name": "stdout",
     "output_type": "stream",
     "text": [
      "{'6_0:00:00': '/Users/leo/workspace/cmpt419/CMPT419-A2/Phoebe_dataset/processed_images/6_0:00:00.jpg', '6_0:00:00.040000': '/Users/leo/workspace/cmpt419/CMPT419-A2/Phoebe_dataset/processed_images/6_0:00:00.040000.jpg', '6_0:00:00.080000': '/Users/leo/workspace/cmpt419/CMPT419-A2/Phoebe_dataset/processed_images/6_0:00:00.080000.jpg', '6_0:00:00.120000': '/Users/leo/workspace/cmpt419/CMPT419-A2/Phoebe_dataset/processed_images/6_0:00:00.120000.jpg', '6_0:00:00.160000': '/Users/leo/workspace/cmpt419/CMPT419-A2/Phoebe_dataset/processed_images/6_0:00:00.160000.jpg', '6_0:00:00.199000': '/Users/leo/workspace/cmpt419/CMPT419-A2/Phoebe_dataset/processed_images/6_0:00:00.199000.jpg', '6_0:00:00.239000': '/Users/leo/workspace/cmpt419/CMPT419-A2/Phoebe_dataset/processed_images/6_0:00:00.239000.jpg', '6_0:00:00.279000': '/Users/leo/workspace/cmpt419/CMPT419-A2/Phoebe_dataset/processed_images/6_0:00:00.279000.jpg', '6_0:00:00.319000': '/Users/leo/workspace/cmpt419/CMPT419-A2/Phoebe_dataset/processed_images/6_0:00:00.319000.jpg', '6_0:00:00.359000': '/Users/leo/workspace/cmpt419/CMPT419-A2/Phoebe_dataset/processed_images/6_0:00:00.359000.jpg', '6_0:00:00.399000': '/Users/leo/workspace/cmpt419/CMPT419-A2/Phoebe_dataset/processed_images/6_0:00:00.399000.jpg', '6_0:00:00.439000': '/Users/leo/workspace/cmpt419/CMPT419-A2/Phoebe_dataset/processed_images/6_0:00:00.439000.jpg', '6_0:00:00.479000': '/Users/leo/workspace/cmpt419/CMPT419-A2/Phoebe_dataset/processed_images/6_0:00:00.479000.jpg', '6_0:00:00.519000': '/Users/leo/workspace/cmpt419/CMPT419-A2/Phoebe_dataset/processed_images/6_0:00:00.519000.jpg', '6_0:00:00.559000': '/Users/leo/workspace/cmpt419/CMPT419-A2/Phoebe_dataset/processed_images/6_0:00:00.559000.jpg', '6_0:00:00.598000': '/Users/leo/workspace/cmpt419/CMPT419-A2/Phoebe_dataset/processed_images/6_0:00:00.598000.jpg', '6_0:00:00.638000': '/Users/leo/workspace/cmpt419/CMPT419-A2/Phoebe_dataset/processed_images/6_0:00:00.638000.jpg', '6_0:00:00.678000': '/Users/leo/workspace/cmpt419/CMPT419-A2/Phoebe_dataset/processed_images/6_0:00:00.678000.jpg', '6_0:00:00.718000': '/Users/leo/workspace/cmpt419/CMPT419-A2/Phoebe_dataset/processed_images/6_0:00:00.718000.jpg', '6_0:00:00.758000': '/Users/leo/workspace/cmpt419/CMPT419-A2/Phoebe_dataset/processed_images/6_0:00:00.758000.jpg', '6_0:00:00.798000': '/Users/leo/workspace/cmpt419/CMPT419-A2/Phoebe_dataset/processed_images/6_0:00:00.798000.jpg', '6_0:00:00.838000': '/Users/leo/workspace/cmpt419/CMPT419-A2/Phoebe_dataset/processed_images/6_0:00:00.838000.jpg', '6_0:00:00.878000': '/Users/leo/workspace/cmpt419/CMPT419-A2/Phoebe_dataset/processed_images/6_0:00:00.878000.jpg'}\n",
      "[['filename' ' face_id' ' timestamp' ' confidence' ' success' ' AU01_r'\n",
      "  ' AU02_r' ' AU04_r' ' AU05_r' ' AU06_r' ' AU07_r' ' AU09_r' ' AU10_r'\n",
      "  ' AU12_r' ' AU14_r' ' AU15_r' ' AU17_r' ' AU20_r' ' AU23_r' ' AU25_r'\n",
      "  ' AU26_r' ' AU45_r']\n",
      " ['6_0:00:00' '0' '0.0' '0.98' '1' '0.0' '0.0' '0.0' '0.0' '1.14' '2.01'\n",
      "  '0.0' '1.65' '1.83' '0.29' '0.94' '0.81' '0.0' '0.2' '0.0' '0.16' '0.0']\n",
      " ['6_0:00:00.040000' '0' '0.04' '0.93' '1' '0.0' '0.0' '0.0' '0.0' '0.98'\n",
      "  '1.82' '0.0' '1.38' '1.67' '0.51' '0.45' '0.58' '0.0' '0.07' '0.13'\n",
      "  '0.11' '0.0']\n",
      " ['6_0:00:00.080000' '0' '0.08' '0.98' '1' '0.02' '0.05' '0.0' '0.0'\n",
      "  '0.94' '1.74' '0.0' '1.2' '1.56' '0.54' '0.27' '0.5' '0.0' '0.0' '0.25'\n",
      "  '0.06' '0.06']\n",
      " ['6_0:00:00.120000' '0' '0.12' '0.98' '1' '0.02' '0.05' '0.0' '0.0'\n",
      "  '0.99' '1.79' '0.0' '1.06' '1.5' '0.5' '0.27' '0.43' '0.0' '0.0' '0.34'\n",
      "  '0.08' '0.06']\n",
      " ['6_0:00:00.160000' '0' '0.16' '0.98' '1' '0.03' '0.05' '0.0' '0.0'\n",
      "  '1.06' '1.76' '0.01' '1.0' '1.51' '0.53' '0.24' '0.3' '0.0' '0.0'\n",
      "  '0.21' '0.04' '0.06']\n",
      " ['6_0:00:00.199000' '0' '0.19899999999999998' '0.98' '1' '0.01' '0.0'\n",
      "  '0.0' '0.0' '1.13' '1.76' '0.04' '1.12' '1.55' '0.48' '0.16' '0.19'\n",
      "  '0.0' '0.0' '0.17' '0.04' '0.0']\n",
      " ['6_0:00:00.239000' '0' '0.239' '0.98' '1' '0.01' '0.0' '0.0' '0.0'\n",
      "  '1.14' '1.59' '0.09' '1.25' '1.55' '0.55' '0.12' '0.11' '0.0' '0.0'\n",
      "  '0.15' '0.02' '0.0']\n",
      " ['6_0:00:00.279000' '0' '0.27899999999999997' '0.98' '1' '0.0' '0.0'\n",
      "  '0.0' '0.0' '1.16' '1.63' '0.08' '1.24' '1.54' '0.51' '0.19' '0.08'\n",
      "  '0.0' '0.0' '0.23' '0.0' '0.0']\n",
      " ['6_0:00:00.319000' '0' '0.319' '0.98' '1' '0.0' '0.0' '0.0' '0.0'\n",
      "  '1.12' '1.55' '0.05' '1.11' '1.51' '0.55' '0.14' '0.0' '0.0' '0.0'\n",
      "  '0.27' '0.0' '0.09']\n",
      " ['6_0:00:00.359000' '0' '0.359' '0.98' '1' '0.0' '0.0' '0.0' '0.0'\n",
      "  '1.13' '1.76' '0.01' '1.08' '1.51' '0.51' '0.14' '0.05' '0.0' '0.0'\n",
      "  '0.29' '0.0' '0.15']\n",
      " ['6_0:00:00.399000' '0' '0.39899999999999997' '0.98' '1' '0.0' '0.0'\n",
      "  '0.0' '0.0' '1.18' '1.84' '0.01' '1.15' '1.56' '0.46' '0.0' '0.05'\n",
      "  '0.0' '0.02' '0.4' '0.05' '0.19']\n",
      " ['6_0:00:00.439000' '0' '0.439' '0.98' '1' '0.0' '0.0' '0.03' '0.0'\n",
      "  '1.28' '1.93' '0.01' '1.16' '1.61' '0.62' '0.0' '0.05' '0.0' '0.02'\n",
      "  '0.33' '0.05' '0.1']\n",
      " ['6_0:00:00.479000' '0' '0.479' '0.98' '1' '0.0' '0.0' '0.06' '0.05'\n",
      "  '1.35' '1.92' '0.0' '1.09' '1.58' '0.55' '0.0' '0.05' '0.0' '0.07'\n",
      "  '0.38' '0.24' '0.04']\n",
      " ['6_0:00:00.519000' '0' '0.519' '0.98' '1' '0.03' '0.0' '0.06' '0.18'\n",
      "  '1.26' '1.89' '0.0' '0.97' '1.5' '0.52' '0.02' '0.11' '0.0' '0.07'\n",
      "  '0.37' '0.2' '0.02']\n",
      " ['6_0:00:00.559000' '0' '0.5589999999999999' '0.98' '1' '0.08' '0.08'\n",
      "  '0.03' '0.22' '1.24' '2.0' '0.0' '0.97' '1.45' '0.53' '0.02' '0.24'\n",
      "  '0.02' '0.07' '0.33' '0.33' '0.06']\n",
      " ['6_0:00:00.598000' '0' '0.598' '0.98' '1' '0.08' '0.14' '0.04' '0.17'\n",
      "  '1.17' '2.1' '0.0' '0.93' '1.45' '0.62' '0.06' '0.3' '0.16' '0.05'\n",
      "  '0.21' '0.24' '0.08']\n",
      " ['6_0:00:00.638000' '0' '0.638' '0.98' '1' '0.06' '0.16' '0.15' '0.13'\n",
      "  '1.17' '2.16' '0.0' '1.09' '1.51' '0.81' '0.04' '0.42' '0.2' '0.06'\n",
      "  '0.15' '0.34' '0.06']\n",
      " ['6_0:00:00.678000' '0' '0.6779999999999999' '0.98' '1' '0.12' '0.14'\n",
      "  '0.3' '0.09' '1.1' '2.07' '0.0' '1.17' '1.49' '1.0' '0.04' '0.4' '0.44'\n",
      "  '0.08' '0.15' '0.43' '0.06']\n",
      " ['6_0:00:00.718000' '0' '0.718' '0.98' '1' '0.23' '0.08' '0.44' '0.09'\n",
      "  '1.13' '2.04' '0.0' '1.54' '1.53' '1.24' '0.0' '0.45' '0.57' '0.04'\n",
      "  '0.12' '0.48' '0.04']\n",
      " ['6_0:00:00.758000' '0' '0.758' '0.98' '1' '0.26' '0.06' '0.51' '0.0'\n",
      "  '1.18' '2.0' '0.0' '1.66' '1.53' '1.41' '0.0' '0.3' '0.79' '0.02' '0.0'\n",
      "  '0.6' '0.04']\n",
      " ['6_0:00:00.798000' '0' '0.7979999999999999' '0.98' '1' '0.23' '0.0'\n",
      "  '0.53' '0.0' '1.22' '1.92' '0.0' '1.75' '1.54' '1.41' '0.0' '0.36'\n",
      "  '0.85' '0.05' '0.0' '0.58' '0.0']\n",
      " ['6_0:00:00.838000' '0' '0.838' '0.98' '1' '0.22' '0.0' '0.55' '0.0'\n",
      "  '1.2' '1.86' '0.0' '1.62' '1.55' '1.48' '0.0' '0.31' '0.95' '0.05'\n",
      "  '0.0' '0.66' '0.0']\n",
      " ['6_0:00:00.878000' '0' '0.878' '0.98' '1' '0.29' '0.0' '0.59' '0.0'\n",
      "  '1.17' '1.97' '0.0' '1.62' '1.57' '1.56' '0.0' '0.37' '1.1' '0.0' '0.0'\n",
      "  '0.7' '0.0']]\n"
     ]
    }
   ],
   "source": [
    "print(IMAGE_STORE)\n",
    "print(dataset1)"
   ]
  },
  {
   "cell_type": "code",
   "execution_count": null,
   "metadata": {},
   "outputs": [],
   "source": []
  }
 ],
 "metadata": {
  "kernelspec": {
   "display_name": "Python 3",
   "language": "python",
   "name": "python3"
  },
  "language_info": {
   "codemirror_mode": {
    "name": "ipython",
    "version": 3
   },
   "file_extension": ".py",
   "mimetype": "text/x-python",
   "name": "python",
   "nbconvert_exporter": "python",
   "pygments_lexer": "ipython3",
   "version": "3.7.3"
  }
 },
 "nbformat": 4,
 "nbformat_minor": 4
}
